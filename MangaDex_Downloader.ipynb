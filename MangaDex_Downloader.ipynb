{
  "nbformat": 4,
  "nbformat_minor": 0,
  "metadata": {
    "colab": {
      "provenance": [],
      "mount_file_id": "1t4gkWcI9P-z88kd9DzudnUupcG78cvEu",
      "authorship_tag": "ABX9TyMqf+x9R0oDHbOQdDWrhLHL",
      "include_colab_link": true
    },
    "kernelspec": {
      "name": "python3",
      "display_name": "Python 3"
    },
    "language_info": {
      "name": "python"
    }
  },
  "cells": [
    {
      "cell_type": "markdown",
      "metadata": {
        "id": "view-in-github",
        "colab_type": "text"
      },
      "source": [
        "<a href=\"https://colab.research.google.com/github/HongYue1/CartPole-V1-RL/blob/main/MangaDex_Downloader.ipynb\" target=\"_parent\"><img src=\"https://colab.research.google.com/assets/colab-badge.svg\" alt=\"Open In Colab\"/></a>"
      ]
    },
    {
      "cell_type": "markdown",
      "source": [
        "Usage: https://mangadex-dl.mansuf.link/en/stable/cli_usage/index.html"
      ],
      "metadata": {
        "id": "M0h5ul34FZxD"
      }
    },
    {
      "cell_type": "code",
      "source": [
        "#@markdown #1- Install program and mount drive\n",
        "!python3 -m pip install mangadex-downloader\n",
        "# prompt: mount drive\n",
        "\n",
        "from google.colab import drive\n",
        "drive.mount('/content/drive')\n",
        "\n",
        "# prompt: clear output\n",
        "\n",
        "from IPython.display import clear_output\n",
        "clear_output()\n",
        "\n",
        "print (\"Finished Installing\")\n"
      ],
      "metadata": {
        "cellView": "form",
        "id": "HXveDoA6DV5Y"
      },
      "execution_count": null,
      "outputs": []
    },
    {
      "cell_type": "code",
      "source": [
        "#@markdown #2- Download:\n",
        "import os\n",
        "os.environ['MANGADEXDL_ZIP_COMPRESSION_TYPE'] = 'deflated'\n",
        "os.environ['MANGADEXDL_ZIP_COMPRESSION_LEVEL'] = '9'\n",
        "\n",
        "\n",
        "prompt=\"mangadex-dl \"\n",
        "link = \"https://mangadex.org/title/ca3692c0-2abe-4fba-91f4-1c76611539c6/the-ultimate-of-all-ages\"#@param {type:\"string\"}\n",
        "prompt+=link\n",
        "filter_Translation_group=True #@param {type:\"boolean\"}\n",
        "if filter_Translation_group:\n",
        "  #@markdown example: https://mangadex.org/group/ea1459cf-278e-4b43-8322-09a82ab9f358/reset-scans\n",
        "  group = \"https://www.google.com/url?q=https%3A%2F%2Fmangadex.org%2Fgroup%2Fea1459cf-278e-4b43-8322-09a82ab9f358%2Freset-scans\"#@param {type:\"string\"}\n",
        "  prompt+=\" --group \"+group\n",
        "\n",
        "\n",
        "format = \"cbz\" #@param [\"raw\", \"pdf\", \"cbz\",\"cb7\",\"epub\"]\n",
        "prompt+=\" --save-as \"+format\n",
        "language=\"en\"#@param{type:\"string\"}\n",
        "prompt+=\" --language \"+language + ' --cover \"original\"'\n",
        "\n",
        "path=\"/content/drive/MyDrive/manga\"#@param {type:\"string\"}\n",
        "if not os.path.exists(path):\n",
        "  os.mkdir(path)\n",
        "prompt+=\" --path \"+path\n",
        "\n",
        "enable_range=True #@param {type:\"boolean\"}\n",
        "if enable_range:\n",
        "  start_chapter=\"1\"#@param {type:\"string\"}\n",
        "  end_chapter=\"2\"#@param {type:\"string\"}\n",
        "  prompt+=\" --start-chapter \"+start_chapter+ \" --end-chapter \"+end_chapter\n",
        "!$prompt\n"
      ],
      "metadata": {
        "cellView": "form",
        "id": "xv_GQHNLH5ri"
      },
      "execution_count": null,
      "outputs": []
    }
  ]
}